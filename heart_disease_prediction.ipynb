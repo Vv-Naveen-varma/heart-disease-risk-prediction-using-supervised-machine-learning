{
 "cells": [
  {
   "cell_type": "markdown",
   "metadata": {},
   "source": [
    "# Heart Disease prediction SVM Model\n",
    "\n",
    "- Dataset exploration and preprocessing were performed in \"preprocessing_data\" file\n",
    "- Three Models were trained in \"training_models\" file\n",
    "- A Suitable model is selected in \"model_selection\" file\n",
    "\n",
    "> We found that SVM model best suits our problem.\n",
    "\n",
    "Taking the patient details as follows as input and predicting: \n",
    "\n",
    "male--age--currentSmoker--cigsPerDay--BPMeds--prevalentStroke--prevalentHyp--diabetes--totChol--sysBP--diaBP--BMI--heartRate--glucose\n",
    "\n",
    "1\t39\t0\t0\t0\t0\t0\t0\t195\t106\t70\t26.97\t80\t77"
   ]
  },
  {
   "cell_type": "code",
   "execution_count": 1,
   "metadata": {},
   "outputs": [],
   "source": [
    "# imports\n",
    "\n",
    "import warnings\n",
    "warnings.filterwarnings('ignore')\n",
    "\n",
    "import numpy as np\n",
    "import pandas as pd\n",
    "\n",
    "import pickle\n",
    "from sklearn.preprocessing import StandardScaler"
   ]
  },
  {
   "cell_type": "code",
   "execution_count": 2,
   "metadata": {},
   "outputs": [],
   "source": [
    "X_test = pd.read_csv('preprocessing_and_model_selection/preprocessed_data/X_test.csv')\n",
    "y_test = pd.read_csv('preprocessing_and_model_selection/preprocessed_data/y_test.csv')\n",
    "\n",
    "# Feature scaling\n",
    "scaler = StandardScaler()\n",
    "X_test_scaled = scaler.fit_transform(X_test)\n",
    "X_test = pd.DataFrame(X_test_scaled)"
   ]
  },
  {
   "cell_type": "code",
   "execution_count": 3,
   "metadata": {},
   "outputs": [],
   "source": [
    "# Load svm Model\n",
    "\n",
    "svm = pickle.load(open('preprocessing_and_model_selection/models/svm_model.sav', 'rb'))"
   ]
  },
  {
   "cell_type": "code",
   "execution_count": 4,
   "metadata": {},
   "outputs": [],
   "source": [
    "prediction = svm.predict(X_test)"
   ]
  },
  {
   "cell_type": "code",
   "execution_count": 5,
   "metadata": {},
   "outputs": [
    {
     "data": {
      "text/plain": [
       "array([1, 1, 0, ..., 1, 1, 0], dtype=int64)"
      ]
     },
     "execution_count": 5,
     "metadata": {},
     "output_type": "execute_result"
    }
   ],
   "source": [
    "prediction"
   ]
  },
  {
   "cell_type": "code",
   "execution_count": null,
   "metadata": {},
   "outputs": [],
   "source": [
    "# input\n",
    "# age  totChol  sysBP   diaBP   BMI   heartRate   glucose\n",
    "# 65    246      119     76    19.83    75         156\n",
    "# y_test"
   ]
  },
  {
   "cell_type": "code",
   "execution_count": 6,
   "metadata": {},
   "outputs": [],
   "source": [
    "# importing the csv module \n",
    "import csv \n",
    "    \n",
    "fields = ['age', 'totChol', 'sysBP', 'diaBP', 'BMI', 'heartRate', 'glucose']\n",
    "row = [[65, 246, 119, 76, 19.83, 75, 156]]\n",
    "    \n",
    "# name of csv file \n",
    "filename = \"input_data.csv\"\n",
    "    \n",
    "with open(filename, 'w') as csvfile: \n",
    "    # creating a csv writer object \n",
    "    csvwriter = csv.writer(csvfile) \n",
    "        \n",
    "    # writing the fields \n",
    "    csvwriter.writerow(fields) \n",
    "        \n",
    "    # writing the data rows \n",
    "    csvwriter.writerows(row)"
   ]
  },
  {
   "cell_type": "code",
   "execution_count": 7,
   "metadata": {},
   "outputs": [],
   "source": [
    "input_data = pd.read_csv('input_data.csv')"
   ]
  },
  {
   "cell_type": "code",
   "execution_count": 8,
   "metadata": {},
   "outputs": [
    {
     "name": "stdout",
     "output_type": "stream",
     "text": [
      "   age  totChol  sysBP  diaBP    BMI  heartRate  glucose\n",
      "0   65      246    119     76  19.83         75      156\n"
     ]
    }
   ],
   "source": [
    "print(input_data)"
   ]
  },
  {
   "cell_type": "code",
   "execution_count": 9,
   "metadata": {},
   "outputs": [],
   "source": [
    "scaler = StandardScaler()\n",
    "input_scaled = scaler.fit_transform(input_data)\n",
    "inputs = pd.DataFrame(input_data)"
   ]
  },
  {
   "cell_type": "code",
   "execution_count": 10,
   "metadata": {},
   "outputs": [],
   "source": [
    "prediction = svm.predict(input_data)"
   ]
  },
  {
   "cell_type": "code",
   "execution_count": 11,
   "metadata": {},
   "outputs": [
    {
     "data": {
      "text/plain": [
       "array([0], dtype=int64)"
      ]
     },
     "execution_count": 11,
     "metadata": {},
     "output_type": "execute_result"
    }
   ],
   "source": [
    "prediction"
   ]
  },
  {
   "cell_type": "code",
   "execution_count": null,
   "metadata": {},
   "outputs": [],
   "source": []
  }
 ],
 "metadata": {
  "kernelspec": {
   "display_name": "Python 3",
   "language": "python",
   "name": "python3"
  },
  "language_info": {
   "codemirror_mode": {
    "name": "ipython",
    "version": 3
   },
   "file_extension": ".py",
   "mimetype": "text/x-python",
   "name": "python",
   "nbconvert_exporter": "python",
   "pygments_lexer": "ipython3",
   "version": "3.8.3"
  }
 },
 "nbformat": 4,
 "nbformat_minor": 4
}
